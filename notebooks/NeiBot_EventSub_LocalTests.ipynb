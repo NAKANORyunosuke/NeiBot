{
 "cells": [
  {
   "cell_type": "markdown",
   "metadata": {},
   "source": [
    "# NeiBot EventSub ローカルE2Eテスト\n",
    "\n",
    "このノートブックは FastAPI サーバーを起動し、Twitch EventSub 通知を署名付きで送信して DB 反映を検証します。\n",
    "- 事前に `pip install -r requirements.txt` を実施してください\n",
    "- `venv/token.json` に Twitch/Discord 設定を用意してください（secret は署名で使用）\n",
    "- Discord Bot は起動不要（API のみ使用）\n"
   ]
  },
  {
   "cell_type": "code",
   "execution_count": null,
   "id": "f17bf105",
   "metadata": {},
   "outputs": [],
   "source": [
    "import os; os.chdir('..') \n",
    "# サーバー起動（127.0.0.1:8000）\n",
    "import os, threading, time\n",
    "os.environ.setdefault('DEBUG', '1')\n",
    "from bot.bot_client import app\n",
    "import uvicorn\n",
    "\n",
    "def _run():\n",
    "    uvicorn.run(app, host='127.0.0.1', port=8000, log_level='info')\n",
    "\n",
    "# 既に他プロセスで動いている場合はこのセルの再実行は不要です\n",
    "t = threading.Thread(target=_run, daemon=True)\n",
    "t.start()\n",
    "time.sleep(1.0)\n",
    "print('Started FastAPI on http://127.0.0.1:8000')\n"
   ]
  },
  {
   "cell_type": "code",
   "execution_count": null,
   "id": "15900d5d",
   "metadata": {},
   "outputs": [],
   "source": [
    "# 署名付き EventSub 通知送信ユーティリティ\n",
    "import hmac, hashlib, uuid, json, time, requests\n",
    "\n",
    "def _now_iso():\n",
    "    return time.strftime('%Y-%m-%dT%H:%M:%SZ', time.gmtime())\n",
    "\n",
    "def _sign(secret: str, msg_id: str, msg_ts: str, body_bytes: bytes) -> str:\n",
    "    mac = hmac.new(secret.encode('utf-8'), (msg_id + msg_ts).encode('utf-8') + body_bytes, hashlib.sha256)\n",
    "    return 'sha256=' + mac.hexdigest()\n",
    "\n",
    "def post_verification(challenge: str = 'hello', base='http://127.0.0.1:8000/twitch_eventsub'):\n",
    "    body = {'challenge': challenge}\n",
    "    b = json.dumps(body, ensure_ascii=False).encode('utf-8')\n",
    "    headers = {\n",
    "        'Twitch-Eventsub-Message-Id': str(uuid.uuid4()),\n",
    "        'Twitch-Eventsub-Message-Timestamp': _now_iso(),\n",
    "        'Twitch-Eventsub-Message-Type': 'webhook_callback_verification',\n",
    "        'Content-Type': 'application/json',\n",
    "    }\n",
    "    r = requests.post(base, data=b, headers=headers, timeout=10)\n",
    "    return r.status_code, r.text\n",
    "\n",
    "def post_event(sub_type: str, event: dict, secret: str, base='http://127.0.0.1:8000/twitch_eventsub', version='1'):\n",
    "    body = {\n",
    "        'subscription': {'type': sub_type, 'version': version},\n",
    "        'event': event,\n",
    "    }\n",
    "    b = json.dumps(body, ensure_ascii=False).encode('utf-8')\n",
    "    msg_id = str(uuid.uuid4())\n",
    "    msg_ts = _now_iso()\n",
    "    headers = {\n",
    "        'Twitch-Eventsub-Message-Id': msg_id,\n",
    "        'Twitch-Eventsub-Message-Timestamp': msg_ts,\n",
    "        'Twitch-Eventsub-Message-Type': 'notification',\n",
    "        'Twitch-Eventsub-Message-Signature': _sign(secret, msg_id, msg_ts, b),\n",
    "        'Content-Type': 'application/json',\n",
    "    }\n",
    "    r = requests.post(base, data=b, headers=headers, timeout=10)\n",
    "    try:\n",
    "        return r.status_code, r.json()\n",
    "    except Exception:\n",
    "        return r.status_code, r.text\n"
   ]
  },
  {
   "cell_type": "code",
   "execution_count": null,
   "id": "1846be3a",
   "metadata": {},
   "outputs": [],
   "source": [
    "# テスト用リンク（Discord<->Twitch ID 紐付け）を作成\n",
    "from bot.utils.save_and_load import patch_linked_user, get_linked_user\n",
    "\n",
    "DISCORD_ID = '532117930117431321'   # 任意のテスト用 Discord ID\n",
    "TWITCH_UID = '662097153'            # 任意のテスト用 Twitch user_id\n",
    "\n",
    "patch_linked_user(DISCORD_ID, {\n",
    "    'twitch_user_id': TWITCH_UID,\n",
    "    'twitch_username': 'test_user',\n",
    "    'is_subscriber': False,\n",
    "    'tier': None,\n",
    "})\n",
    "get_linked_user(DISCORD_ID)\n"
   ]
  },
  {
   "cell_type": "code",
   "execution_count": null,
   "id": "1f562296",
   "metadata": {},
   "outputs": [],
   "source": [
    "# secret 読み込み\n",
    "from bot.utils.save_and_load import get_eventsub_config\n",
    "cb, secret = get_eventsub_config()\n",
    "print('Callback =', cb)\n",
    "print('Secret   =', ('*' * len(secret)) if secret else '(missing)')\n"
   ]
  },
  {
   "cell_type": "code",
   "execution_count": null,
   "id": "4f3748ca",
   "metadata": {},
   "outputs": [],
   "source": [
    "# 1) webhook 検証\n",
    "post_verification('challenge-ok')\n"
   ]
  },
  {
   "cell_type": "code",
   "execution_count": null,
   "id": "9e2eb065",
   "metadata": {},
   "outputs": [],
   "source": [
    "# 2) subscribe 通知\n",
    "status, res = post_event('channel.subscribe', {\n",
    "    'user_id': TWITCH_UID,\n",
    "    'tier': '1000',\n",
    "}, secret)\n",
    "print(status, res)\n",
    "get_linked_user(DISCORD_ID)\n"
   ]
  },
  {
   "cell_type": "code",
   "execution_count": null,
   "id": "a33b0c37",
   "metadata": {},
   "outputs": [],
   "source": [
    "# 3) subscription.message（再サブ）\n",
    "status, res = post_event('channel.subscription.message', {\n",
    "    'user_id': TWITCH_UID,\n",
    "    'tier': '2000',\n",
    "    'cumulative_months': 7,\n",
    "    'streak_months': {'months': 4},  # dict でも int でも可\n",
    "}, secret)\n",
    "print(status, res)\n",
    "get_linked_user(DISCORD_ID)\n"
   ]
  },
  {
   "cell_type": "code",
   "execution_count": null,
   "id": "97226941",
   "metadata": {},
   "outputs": [],
   "source": [
    "# 4) subscription.end（終了）\n",
    "status, res = post_event('channel.subscription.end', {\n",
    "    'user_id': TWITCH_UID,\n",
    "}, secret)\n",
    "print(status, res)\n",
    "get_linked_user(DISCORD_ID)\n"
   ]
  },
  {
   "cell_type": "code",
   "execution_count": null,
   "id": "9ff65fac",
   "metadata": {},
   "outputs": [],
   "source": [
    "# 受信履歴（webhook_events）を確認\n",
    "import sqlite3, os\n",
    "db = os.path.join(os.getcwd(), 'db.sqlite3')\n",
    "con = sqlite3.connect(db)\n",
    "cur = con.cursor()\n",
    "cur.execute(\"SELECT source, delivery_id, event_type, status, received_at FROM webhook_events ORDER BY received_at DESC LIMIT 10\")\n",
    "rows = cur.fetchall()\n",
    "con.close()\n",
    "rows\n"
   ]
  },
  {
   "cell_type": "code",
   "execution_count": null,
   "id": "c4c475e5",
   "metadata": {},
   "outputs": [],
   "source": []
  }
 ],
 "metadata": {
  "kernelspec": {
   "display_name": "venv",
   "language": "python",
   "name": "python3"
  },
  "language_info": {
   "codemirror_mode": {
    "name": "ipython",
    "version": 3
   },
   "file_extension": ".py",
   "mimetype": "text/x-python",
   "name": "python",
   "nbconvert_exporter": "python",
   "pygments_lexer": "ipython3",
   "version": "3.12.10"
  }
 },
 "nbformat": 4,
 "nbformat_minor": 5
}
